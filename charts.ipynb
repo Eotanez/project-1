{
 "cells": [
  {
   "cell_type": "code",
   "execution_count": 2,
   "id": "f8ac8c0a",
   "metadata": {},
   "outputs": [],
   "source": [
    "import pandas as pd\n",
    "import matplotlib.pyplot as plt\n",
    "import scipy.stats as st\n",
    "import numpy as np\n",
    "from scipy.stats import linregress\n",
    "import datetime\n",
    "%matplotlib notebook\n",
    "\n",
    "\n",
    "#adding dependencies for API pulls\n",
    "import requests\n",
    "from pprint import pprint\n",
    "from config import access_key"
   ]
  },
  {
   "cell_type": "code",
   "execution_count": 4,
   "id": "9f210413",
   "metadata": {},
   "outputs": [],
   "source": [
    "# Reference files\n",
    "stocks_10yr_df = pd.read_csv(\"Resources/stocks_10yr_df.csv\")\n",
    "stocks_2020_df = pd.read_csv(\"Resources/stocks_2020_df.csv\")\n",
    "reduced_data = pd.read_csv(\"Resources/reduced_data.csv\")\n",
    "month_data_df = pd.read_csv(\"Resources/month_data_df.csv\")\n",
    "currencyDF2020 = pd.read_csv(\"Resources/currencyDF2020.csv\")\n",
    "currencydf = pd.read_csv(\"Resources/currencydf.csv\")\n"
   ]
  },
  {
   "cell_type": "code",
   "execution_count": null,
   "id": "4c737944",
   "metadata": {},
   "outputs": [],
   "source": []
  },
  {
   "cell_type": "code",
   "execution_count": null,
   "id": "8ef4a14f",
   "metadata": {},
   "outputs": [],
   "source": []
  },
  {
   "cell_type": "code",
   "execution_count": null,
   "id": "e0b9ebdf",
   "metadata": {},
   "outputs": [],
   "source": []
  },
  {
   "cell_type": "code",
   "execution_count": null,
   "id": "f8ac48e3",
   "metadata": {},
   "outputs": [],
   "source": []
  }
 ],
 "metadata": {
  "kernelspec": {
   "display_name": "Python [conda env:TestEnv] *",
   "language": "python",
   "name": "conda-env-TestEnv-py"
  },
  "language_info": {
   "codemirror_mode": {
    "name": "ipython",
    "version": 3
   },
   "file_extension": ".py",
   "mimetype": "text/x-python",
   "name": "python",
   "nbconvert_exporter": "python",
   "pygments_lexer": "ipython3",
   "version": "3.6.10"
  }
 },
 "nbformat": 4,
 "nbformat_minor": 5
}
