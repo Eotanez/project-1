{
 "cells": [
  {
   "cell_type": "markdown",
   "id": "6d2dbfd0",
   "metadata": {},
   "source": [
    "### Imports"
   ]
  },
  {
   "cell_type": "code",
   "execution_count": 1,
   "id": "fe3816d5",
   "metadata": {},
   "outputs": [],
   "source": [
    "import matplotlib.pyplot as plt\n",
    "import pandas as pd\n",
    "from scipy.stats import linregress\n",
    "%matplotlib notebook"
   ]
  },
  {
   "cell_type": "markdown",
   "id": "64b2a4a2",
   "metadata": {},
   "source": [
    "### Covid Code"
   ]
  },
  {
   "cell_type": "code",
   "execution_count": null,
   "id": "d763bb74",
   "metadata": {},
   "outputs": [],
   "source": []
  },
  {
   "cell_type": "code",
   "execution_count": null,
   "id": "eac0b39a",
   "metadata": {},
   "outputs": [],
   "source": []
  },
  {
   "cell_type": "markdown",
   "id": "d81a07d4",
   "metadata": {},
   "source": [
    "### Currency Code"
   ]
  },
  {
   "cell_type": "code",
   "execution_count": null,
   "id": "8fb9f33a",
   "metadata": {},
   "outputs": [],
   "source": []
  },
  {
   "cell_type": "code",
   "execution_count": null,
   "id": "bc228cde",
   "metadata": {},
   "outputs": [],
   "source": []
  },
  {
   "cell_type": "markdown",
   "id": "1f719310",
   "metadata": {},
   "source": [
    "### Stock Code"
   ]
  },
  {
   "cell_type": "code",
   "execution_count": 6,
   "id": "27239f8d",
   "metadata": {},
   "outputs": [
    {
     "data": {
      "text/plain": [
       "Date        object\n",
       "Price       object\n",
       "Open        object\n",
       "High        object\n",
       "Low         object\n",
       "Vol.        object\n",
       "Change %    object\n",
       "dtype: object"
      ]
     },
     "execution_count": 6,
     "metadata": {},
     "output_type": "execute_result"
    }
   ],
   "source": [
    "# Import data\n",
    "brazil_2020_orig = pd.read_csv(\"Resources/Brazil_inBRL_Bovespa_2020Data.csv\")\n",
    "\n",
    "# Convert object to string\n",
    "brazil_2020_orig = brazil_2020_orig.astype(str)\n",
    "\n",
    "# Check to see the data type\n",
    "brazil_2020_orig.dtypes\n",
    "\n"
   ]
  },
  {
   "cell_type": "code",
   "execution_count": null,
   "id": "458c0f7a",
   "metadata": {},
   "outputs": [],
   "source": [
    "# Take out \"%\" and convert to float\n",
    "brazil_2020_clean = brazil_2020_orig.replace(\"%\",\"\")"
   ]
  },
  {
   "cell_type": "code",
   "execution_count": 7,
   "id": "08f357ec",
   "metadata": {},
   "outputs": [
    {
     "data": {
      "text/html": [
       "<div>\n",
       "<style scoped>\n",
       "    .dataframe tbody tr th:only-of-type {\n",
       "        vertical-align: middle;\n",
       "    }\n",
       "\n",
       "    .dataframe tbody tr th {\n",
       "        vertical-align: top;\n",
       "    }\n",
       "\n",
       "    .dataframe thead th {\n",
       "        text-align: right;\n",
       "    }\n",
       "</style>\n",
       "<table border=\"1\" class=\"dataframe\">\n",
       "  <thead>\n",
       "    <tr style=\"text-align: right;\">\n",
       "      <th></th>\n",
       "      <th>Date</th>\n",
       "      <th>Price</th>\n",
       "      <th>Open</th>\n",
       "      <th>High</th>\n",
       "      <th>Low</th>\n",
       "      <th>Vol.</th>\n",
       "      <th>Change %</th>\n",
       "    </tr>\n",
       "  </thead>\n",
       "  <tbody>\n",
       "    <tr>\n",
       "      <th>0</th>\n",
       "      <td>Dec 30, 2020</td>\n",
       "      <td>119,017.24</td>\n",
       "      <td>119,409.85</td>\n",
       "      <td>120,149.85</td>\n",
       "      <td>118,919.43</td>\n",
       "      <td>8.24M</td>\n",
       "      <td>-0.33%</td>\n",
       "    </tr>\n",
       "    <tr>\n",
       "      <th>1</th>\n",
       "      <td>Dec 29, 2020</td>\n",
       "      <td>119,409.15</td>\n",
       "      <td>119,130.06</td>\n",
       "      <td>119,860.91</td>\n",
       "      <td>118,750.10</td>\n",
       "      <td>6.77M</td>\n",
       "      <td>0.24%</td>\n",
       "    </tr>\n",
       "    <tr>\n",
       "      <th>2</th>\n",
       "      <td>Dec 28, 2020</td>\n",
       "      <td>119,123.70</td>\n",
       "      <td>117,805.56</td>\n",
       "      <td>119,212.79</td>\n",
       "      <td>117,804.95</td>\n",
       "      <td>7.17M</td>\n",
       "      <td>1.12%</td>\n",
       "    </tr>\n",
       "    <tr>\n",
       "      <th>3</th>\n",
       "      <td>Dec 23, 2020</td>\n",
       "      <td>117,806.85</td>\n",
       "      <td>116,636.18</td>\n",
       "      <td>118,311.44</td>\n",
       "      <td>116,636.18</td>\n",
       "      <td>6.48M</td>\n",
       "      <td>1.00%</td>\n",
       "    </tr>\n",
       "    <tr>\n",
       "      <th>4</th>\n",
       "      <td>Dec 22, 2020</td>\n",
       "      <td>116,636.18</td>\n",
       "      <td>115,824.66</td>\n",
       "      <td>116,902.54</td>\n",
       "      <td>115,648.34</td>\n",
       "      <td>6.95M</td>\n",
       "      <td>0.70%</td>\n",
       "    </tr>\n",
       "    <tr>\n",
       "      <th>...</th>\n",
       "      <td>...</td>\n",
       "      <td>...</td>\n",
       "      <td>...</td>\n",
       "      <td>...</td>\n",
       "      <td>...</td>\n",
       "      <td>...</td>\n",
       "      <td>...</td>\n",
       "    </tr>\n",
       "    <tr>\n",
       "      <th>244</th>\n",
       "      <td>Jan 08, 2020</td>\n",
       "      <td>116,247.03</td>\n",
       "      <td>116,667.32</td>\n",
       "      <td>117,334.82</td>\n",
       "      <td>115,693.02</td>\n",
       "      <td>5.91M</td>\n",
       "      <td>-0.36%</td>\n",
       "    </tr>\n",
       "    <tr>\n",
       "      <th>245</th>\n",
       "      <td>Jan 07, 2020</td>\n",
       "      <td>116,661.94</td>\n",
       "      <td>116,871.73</td>\n",
       "      <td>117,075.85</td>\n",
       "      <td>115,965.38</td>\n",
       "      <td>4.85M</td>\n",
       "      <td>-0.18%</td>\n",
       "    </tr>\n",
       "    <tr>\n",
       "      <th>246</th>\n",
       "      <td>Jan 06, 2020</td>\n",
       "      <td>116,877.92</td>\n",
       "      <td>117,706.66</td>\n",
       "      <td>117,706.66</td>\n",
       "      <td>116,268.69</td>\n",
       "      <td>6.57M</td>\n",
       "      <td>-0.70%</td>\n",
       "    </tr>\n",
       "    <tr>\n",
       "      <th>247</th>\n",
       "      <td>Jan 03, 2020</td>\n",
       "      <td>117,706.66</td>\n",
       "      <td>118,564.44</td>\n",
       "      <td>118,791.86</td>\n",
       "      <td>117,340.57</td>\n",
       "      <td>6.83M</td>\n",
       "      <td>-0.73%</td>\n",
       "    </tr>\n",
       "    <tr>\n",
       "      <th>248</th>\n",
       "      <td>Jan 02, 2020</td>\n",
       "      <td>118,573.10</td>\n",
       "      <td>115,651.95</td>\n",
       "      <td>118,573.10</td>\n",
       "      <td>115,648.97</td>\n",
       "      <td>5.16M</td>\n",
       "      <td>2.53%</td>\n",
       "    </tr>\n",
       "  </tbody>\n",
       "</table>\n",
       "<p>249 rows × 7 columns</p>\n",
       "</div>"
      ],
      "text/plain": [
       "             Date       Price        Open        High         Low   Vol.  \\\n",
       "0    Dec 30, 2020  119,017.24  119,409.85  120,149.85  118,919.43  8.24M   \n",
       "1    Dec 29, 2020  119,409.15  119,130.06  119,860.91  118,750.10  6.77M   \n",
       "2    Dec 28, 2020  119,123.70  117,805.56  119,212.79  117,804.95  7.17M   \n",
       "3    Dec 23, 2020  117,806.85  116,636.18  118,311.44  116,636.18  6.48M   \n",
       "4    Dec 22, 2020  116,636.18  115,824.66  116,902.54  115,648.34  6.95M   \n",
       "..            ...         ...         ...         ...         ...    ...   \n",
       "244  Jan 08, 2020  116,247.03  116,667.32  117,334.82  115,693.02  5.91M   \n",
       "245  Jan 07, 2020  116,661.94  116,871.73  117,075.85  115,965.38  4.85M   \n",
       "246  Jan 06, 2020  116,877.92  117,706.66  117,706.66  116,268.69  6.57M   \n",
       "247  Jan 03, 2020  117,706.66  118,564.44  118,791.86  117,340.57  6.83M   \n",
       "248  Jan 02, 2020  118,573.10  115,651.95  118,573.10  115,648.97  5.16M   \n",
       "\n",
       "    Change %  \n",
       "0     -0.33%  \n",
       "1      0.24%  \n",
       "2      1.12%  \n",
       "3      1.00%  \n",
       "4      0.70%  \n",
       "..       ...  \n",
       "244   -0.36%  \n",
       "245   -0.18%  \n",
       "246   -0.70%  \n",
       "247   -0.73%  \n",
       "248    2.53%  \n",
       "\n",
       "[249 rows x 7 columns]"
      ]
     },
     "execution_count": 7,
     "metadata": {},
     "output_type": "execute_result"
    }
   ],
   "source": [
    "# Display clean data frame\n",
    "brazil_2020_clean"
   ]
  },
  {
   "cell_type": "markdown",
   "id": "d8b9dd43",
   "metadata": {},
   "source": [
    "### Question 1: How do countries rate on per-capital covid deaths?\n",
    "\n",
    "* Bar graph: per-capita deaths by country\n",
    "    \n",
    "* Line graph: per capita deaths over time"
   ]
  },
  {
   "cell_type": "code",
   "execution_count": null,
   "id": "88eb8cfd",
   "metadata": {},
   "outputs": [],
   "source": []
  },
  {
   "cell_type": "markdown",
   "id": "d38c0338",
   "metadata": {},
   "source": [
    "### Question 2: "
   ]
  },
  {
   "cell_type": "code",
   "execution_count": null,
   "id": "607ccba4",
   "metadata": {},
   "outputs": [],
   "source": []
  },
  {
   "cell_type": "markdown",
   "id": "0d670c01",
   "metadata": {},
   "source": [
    "### Question 3:"
   ]
  },
  {
   "cell_type": "code",
   "execution_count": null,
   "id": "97360138",
   "metadata": {},
   "outputs": [],
   "source": []
  },
  {
   "cell_type": "code",
   "execution_count": null,
   "id": "236eeadc",
   "metadata": {},
   "outputs": [],
   "source": []
  },
  {
   "cell_type": "markdown",
   "id": "ee2243a7",
   "metadata": {},
   "source": [
    "### Analysis"
   ]
  },
  {
   "cell_type": "code",
   "execution_count": null,
   "id": "5ffd8d0d",
   "metadata": {},
   "outputs": [],
   "source": []
  }
 ],
 "metadata": {
  "kernelspec": {
   "display_name": "Python [conda env:TestEnv] *",
   "language": "python",
   "name": "conda-env-TestEnv-py"
  },
  "language_info": {
   "codemirror_mode": {
    "name": "ipython",
    "version": 3
   },
   "file_extension": ".py",
   "mimetype": "text/x-python",
   "name": "python",
   "nbconvert_exporter": "python",
   "pygments_lexer": "ipython3",
   "version": "3.6.10"
  }
 },
 "nbformat": 4,
 "nbformat_minor": 5
}
